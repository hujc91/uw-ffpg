{
 "cells": [
  {
   "cell_type": "markdown",
   "metadata": {},
   "source": [
    "# Load libraries"
   ]
  },
  {
   "cell_type": "code",
   "execution_count": 1,
   "metadata": {
    "collapsed": false
   },
   "outputs": [],
   "source": [
    "import numpy as np\n",
    "import foamTools as ft\n",
    "import matplotlib.pyplot as plt\n",
    "%matplotlib inline"
   ]
  },
  {
   "cell_type": "markdown",
   "metadata": {},
   "source": [
    "# Load cell positions from OpenFOAM ccx, ccy, ccz (generated from OpenFOAM function writeCellCentres) "
   ]
  },
  {
   "cell_type": "code",
   "execution_count": 2,
   "metadata": {
    "collapsed": true
   },
   "outputs": [],
   "source": [
    "ccx = ft.loadScalar('example-files/ccx')\n",
    "ccy = ft.loadScalar('example-files/ccy')"
   ]
  },
  {
   "cell_type": "markdown",
   "metadata": {},
   "source": [
    "# Initilzed the velocity and pressire field with Lamb-Oseen vortex (2D)"
   ]
  },
  {
   "cell_type": "code",
   "execution_count": 3,
   "metadata": {
    "collapsed": true
   },
   "outputs": [],
   "source": [
    "def lambOseenVelocity(G, Rc, x0, y0, x, y):\n",
    "    '''\n",
    "    Calculate the velocity field of a Lamb-Oseen vortex\n",
    "        G  - circulation\n",
    "        Rc - vortex core radius\n",
    "        x0 - vortex core x location\n",
    "        y0 - vortex core y location\n",
    "        x  - x field point\n",
    "        y  - y field point\n",
    "        u  - x component velocity field\n",
    "        v  - y component velocity field\n",
    "    '''\n",
    "    \n",
    "    # Convert cartesian coordinate position\n",
    "    r = np.sqrt((x-x0)**2 + (y-y0)**2)\n",
    "    t = np.arctan2((x-x0), (y-y0))\n",
    "    \n",
    "    # Tangential velocity\n",
    "    uT = G/(2*np.pi*r)*(1-np.exp(-(r/Rc)**2))\n",
    "    \n",
    "    # Cartiesian velocity components\n",
    "    u = -uT*np.cos(t)\n",
    "    v =  uT*np.sin(t)\n",
    "    \n",
    "    return u, v\n",
    "\n",
    "def lambOseenEnstrophy(G, Rc, x0, y0, x, y):\n",
    "    '''\n",
    "    Calculate the velocity field of a Lamb-Oseen vortex\n",
    "    G   - circulation\n",
    "    Rc  - vortex core radius\n",
    "    x0  - vortex core x location\n",
    "    y0  - vortex core y location\n",
    "    x   - x field point\n",
    "    y   - y field point\n",
    "    ens - enstrophy\n",
    "    '''\n",
    "    # Convert cartesian coordinate position\n",
    "    r = np.sqrt((x-x0)**2 + (y-y0)**2)\n",
    "    t = np.arctan2((x-x0), (y-y0))\n",
    "    \n",
    "    # Vorticity field\n",
    "    ww = G/(np.pi*Rc**2) * np.exp(-r**2/Rc**2)\n",
    "    \n",
    "    # Enstrophy field\n",
    "    ens = 0.5*ww**2\n",
    "    \n",
    "    return ens"
   ]
  },
  {
   "cell_type": "code",
   "execution_count": 4,
   "metadata": {
    "collapsed": false
   },
   "outputs": [],
   "source": [
    "G  = 10.0\n",
    "Rc =  0.2\n",
    "x0 =  0.0\n",
    "y0 =  0.0\n",
    "\n",
    "uu, vv = lambOseenVelocity(G, Rc, x0, y0, ccx, ccy)\n",
    "ens = lambOseenEnstrophy(G, Rc, x0, y0, ccx, ccy)\n",
    "ww = np.zeros(uu.shape) # 2D field no z component velocity"
   ]
  },
  {
   "cell_type": "markdown",
   "metadata": {},
   "source": [
    "# Write vector field \"velocity\" into OpenFOAM file \"U\" with template \"U-template\""
   ]
  },
  {
   "cell_type": "code",
   "execution_count": 5,
   "metadata": {
    "collapsed": false
   },
   "outputs": [],
   "source": [
    "ft.writeVector('example-files/U', 'example-files/U-template', uu, vv, ww)"
   ]
  },
  {
   "cell_type": "markdown",
   "metadata": {},
   "source": [
    "# Write scalar field \"enstrophy\" into OpenFOAM file \"enstrophy\" with template \"enstrophy-template\""
   ]
  },
  {
   "cell_type": "code",
   "execution_count": 6,
   "metadata": {
    "collapsed": false
   },
   "outputs": [],
   "source": [
    "ft.writeScalar('example-files/enstrophy', 'example-files/enstrophy-template', ens)"
   ]
  },
  {
   "cell_type": "markdown",
   "metadata": {},
   "source": [
    "# Load OpenFOAM vector field and plot its magnitude with matplotlib"
   ]
  },
  {
   "cell_type": "code",
   "execution_count": 7,
   "metadata": {
    "collapsed": false
   },
   "outputs": [
    {
     "data": {
      "image/png": "[encoded data removed]",
      "text/plain": [
       "<matplotlib.figure.Figure at 0x7f200f088438>"
      ]
     },
     "metadata": {},
     "output_type": "display_data"
    }
   ],
   "source": [
    "vel = ft.loadVector('example-files/U')\n",
    "\n",
    "magVel = np.sum(vel**2, axis=1)**0.5\n",
    "\n",
    "plt.figure(figsize=(4*1.25,4))\n",
    "plt.tricontourf(ccx, ccy, magVel, cmap='viridis')\n",
    "plt.colorbar(label='$\\mathrm{mag}(U)$')\n",
    "plt.xlim((-5,5))\n",
    "plt.ylim((-5,5))\n",
    "plt.xlabel('$x$')\n",
    "plt.ylabel('$y$');"
   ]
  }
 ],
 "metadata": {
  "anaconda-cloud": {},
  "kernelspec": {
   "display_name": "Python [conda root]",
   "language": "python",
   "name": "conda-root-py"
  },
  "language_info": {
   "codemirror_mode": {
    "name": "ipython",
    "version": 3
   },
   "file_extension": ".py",
   "mimetype": "text/x-python",
   "name": "python",
   "nbconvert_exporter": "python",
   "pygments_lexer": "ipython3",
   "version": "3.5.2"
  }
 },
 "nbformat": 4,
 "nbformat_minor": 1
}
